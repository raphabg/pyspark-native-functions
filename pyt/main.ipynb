{
 "cells": [
  {
   "cell_type": "markdown",
   "metadata": {},
   "source": [
    "## Fuzzy Match POC with Apache Spark\n",
    "The objective of this project is to test the execution of native spark functions to perform string similarity analysis, with variated similarity analysis algorithms"
   ]
  },
  {
   "cell_type": "code",
   "execution_count": 1,
   "metadata": {},
   "outputs": [],
   "source": [
    "from pyspark import SparkContext\n",
    "from pyspark.sql import SparkSession\n",
    "import pyspark.sql.functions as F\n",
    "import names\n",
    "import os\n",
    "import sys\n",
    "\n",
    "os.environ['PYSPARK_PYTHON'] = sys.executable\n",
    "os.environ['PYSPARK_DRIVER_PYTHON'] = sys.executable\n",
    "\n",
    "sc = SparkContext().getOrCreate()\n",
    "\n",
    "spark = SparkSession.builder.appName(\n",
    "    'Fuzzy Match POC').getOrCreate()"
   ]
  },
  {
   "cell_type": "markdown",
   "metadata": {},
   "source": [
    "### Prepare datasets\n",
    "`targets` is the name list that will be looked up inside `comparison`"
   ]
  },
  {
   "cell_type": "code",
   "execution_count": 2,
   "metadata": {},
   "outputs": [
    {
     "name": "stdout",
     "output_type": "stream",
     "text": [
      "Targets to be searched:\n",
      "+-----------------+\n",
      "|   SimilarityWith|\n",
      "+-----------------+\n",
      "|    Edward Hughes|\n",
      "|Jermaine Harrison|\n",
      "+-----------------+\n",
      "only showing top 2 rows\n",
      "\n",
      "\\Search list:\n",
      "+-------------+\n",
      "|         Name|\n",
      "+-------------+\n",
      "|Edward Hughes|\n",
      "|Edwerd Hughes|\n",
      "+-------------+\n",
      "only showing top 2 rows\n",
      "\n"
     ]
    },
    {
     "ename": "AnalysisException",
     "evalue": "Undefined function: 'balogo_jaro_winkler'. This function is neither a registered temporary function nor a permanent function registered in the database 'default'.; line 1 pos 0",
     "output_type": "error",
     "traceback": [
      "\u001b[1;31m---------------------------------------------------------------------------\u001b[0m",
      "\u001b[1;31mAnalysisException\u001b[0m                         Traceback (most recent call last)",
      "\u001b[1;32mc:\\Users\\Raphael\\Documents\\repos\\pyspark-native-functions\\pyt\\main.ipynb Cell 4'\u001b[0m in \u001b[0;36m<cell line: 30>\u001b[1;34m()\u001b[0m\n\u001b[0;32m     <a href='vscode-notebook-cell:/c%3A/Users/Raphael/Documents/repos/pyspark-native-functions/pyt/main.ipynb#ch0000003?line=25'>26</a>\u001b[0m comparison_df\u001b[39m.\u001b[39mshow(n\u001b[39m=\u001b[39m\u001b[39m2\u001b[39m)\n\u001b[0;32m     <a href='vscode-notebook-cell:/c%3A/Users/Raphael/Documents/repos/pyspark-native-functions/pyt/main.ipynb#ch0000003?line=27'>28</a>\u001b[0m df \u001b[39m=\u001b[39m targets_df\u001b[39m.\u001b[39mcrossJoin(comparison_df)\n\u001b[1;32m---> <a href='vscode-notebook-cell:/c%3A/Users/Raphael/Documents/repos/pyspark-native-functions/pyt/main.ipynb#ch0000003?line=29'>30</a>\u001b[0m df \u001b[39m=\u001b[39m df\u001b[39m.\u001b[39;49mwithColumn(\u001b[39m'\u001b[39;49m\u001b[39mSimilarity\u001b[39;49m\u001b[39m'\u001b[39;49m, F\u001b[39m.\u001b[39;49mexpr(\n\u001b[0;32m     <a href='vscode-notebook-cell:/c%3A/Users/Raphael/Documents/repos/pyspark-native-functions/pyt/main.ipynb#ch0000003?line=30'>31</a>\u001b[0m     \u001b[39m'\u001b[39;49m\u001b[39mbalogo_jaro_winkler(t.SimilarityWith, c.Name)\u001b[39;49m\u001b[39m'\u001b[39;49m))\n\u001b[0;32m     <a href='vscode-notebook-cell:/c%3A/Users/Raphael/Documents/repos/pyspark-native-functions/pyt/main.ipynb#ch0000003?line=32'>33</a>\u001b[0m df\u001b[39m.\u001b[39mshow()\n",
      "File \u001b[1;32mc:\\Users\\Raphael\\Documents\\repos\\pyspark-native-functions\\pyt\\venv\\lib\\site-packages\\pyspark\\sql\\dataframe.py:2478\u001b[0m, in \u001b[0;36mDataFrame.withColumn\u001b[1;34m(self, colName, col)\u001b[0m\n\u001b[0;32m   <a href='file:///c%3A/Users/Raphael/Documents/repos/pyspark-native-functions/pyt/venv/lib/site-packages/pyspark/sql/dataframe.py?line=2475'>2476</a>\u001b[0m \u001b[39mif\u001b[39;00m \u001b[39mnot\u001b[39;00m \u001b[39misinstance\u001b[39m(col, Column):\n\u001b[0;32m   <a href='file:///c%3A/Users/Raphael/Documents/repos/pyspark-native-functions/pyt/venv/lib/site-packages/pyspark/sql/dataframe.py?line=2476'>2477</a>\u001b[0m     \u001b[39mraise\u001b[39;00m \u001b[39mTypeError\u001b[39;00m(\u001b[39m\"\u001b[39m\u001b[39mcol should be Column\u001b[39m\u001b[39m\"\u001b[39m)\n\u001b[1;32m-> <a href='file:///c%3A/Users/Raphael/Documents/repos/pyspark-native-functions/pyt/venv/lib/site-packages/pyspark/sql/dataframe.py?line=2477'>2478</a>\u001b[0m \u001b[39mreturn\u001b[39;00m DataFrame(\u001b[39mself\u001b[39;49m\u001b[39m.\u001b[39;49m_jdf\u001b[39m.\u001b[39;49mwithColumn(colName, col\u001b[39m.\u001b[39;49m_jc), \u001b[39mself\u001b[39m\u001b[39m.\u001b[39msql_ctx)\n",
      "File \u001b[1;32mc:\\Users\\Raphael\\Documents\\repos\\pyspark-native-functions\\pyt\\venv\\lib\\site-packages\\py4j\\java_gateway.py:1321\u001b[0m, in \u001b[0;36mJavaMember.__call__\u001b[1;34m(self, *args)\u001b[0m\n\u001b[0;32m   <a href='file:///c%3A/Users/Raphael/Documents/repos/pyspark-native-functions/pyt/venv/lib/site-packages/py4j/java_gateway.py?line=1314'>1315</a>\u001b[0m command \u001b[39m=\u001b[39m proto\u001b[39m.\u001b[39mCALL_COMMAND_NAME \u001b[39m+\u001b[39m\\\n\u001b[0;32m   <a href='file:///c%3A/Users/Raphael/Documents/repos/pyspark-native-functions/pyt/venv/lib/site-packages/py4j/java_gateway.py?line=1315'>1316</a>\u001b[0m     \u001b[39mself\u001b[39m\u001b[39m.\u001b[39mcommand_header \u001b[39m+\u001b[39m\\\n\u001b[0;32m   <a href='file:///c%3A/Users/Raphael/Documents/repos/pyspark-native-functions/pyt/venv/lib/site-packages/py4j/java_gateway.py?line=1316'>1317</a>\u001b[0m     args_command \u001b[39m+\u001b[39m\\\n\u001b[0;32m   <a href='file:///c%3A/Users/Raphael/Documents/repos/pyspark-native-functions/pyt/venv/lib/site-packages/py4j/java_gateway.py?line=1317'>1318</a>\u001b[0m     proto\u001b[39m.\u001b[39mEND_COMMAND_PART\n\u001b[0;32m   <a href='file:///c%3A/Users/Raphael/Documents/repos/pyspark-native-functions/pyt/venv/lib/site-packages/py4j/java_gateway.py?line=1319'>1320</a>\u001b[0m answer \u001b[39m=\u001b[39m \u001b[39mself\u001b[39m\u001b[39m.\u001b[39mgateway_client\u001b[39m.\u001b[39msend_command(command)\n\u001b[1;32m-> <a href='file:///c%3A/Users/Raphael/Documents/repos/pyspark-native-functions/pyt/venv/lib/site-packages/py4j/java_gateway.py?line=1320'>1321</a>\u001b[0m return_value \u001b[39m=\u001b[39m get_return_value(\n\u001b[0;32m   <a href='file:///c%3A/Users/Raphael/Documents/repos/pyspark-native-functions/pyt/venv/lib/site-packages/py4j/java_gateway.py?line=1321'>1322</a>\u001b[0m     answer, \u001b[39mself\u001b[39;49m\u001b[39m.\u001b[39;49mgateway_client, \u001b[39mself\u001b[39;49m\u001b[39m.\u001b[39;49mtarget_id, \u001b[39mself\u001b[39;49m\u001b[39m.\u001b[39;49mname)\n\u001b[0;32m   <a href='file:///c%3A/Users/Raphael/Documents/repos/pyspark-native-functions/pyt/venv/lib/site-packages/py4j/java_gateway.py?line=1323'>1324</a>\u001b[0m \u001b[39mfor\u001b[39;00m temp_arg \u001b[39min\u001b[39;00m temp_args:\n\u001b[0;32m   <a href='file:///c%3A/Users/Raphael/Documents/repos/pyspark-native-functions/pyt/venv/lib/site-packages/py4j/java_gateway.py?line=1324'>1325</a>\u001b[0m     temp_arg\u001b[39m.\u001b[39m_detach()\n",
      "File \u001b[1;32mc:\\Users\\Raphael\\Documents\\repos\\pyspark-native-functions\\pyt\\venv\\lib\\site-packages\\pyspark\\sql\\utils.py:117\u001b[0m, in \u001b[0;36mcapture_sql_exception.<locals>.deco\u001b[1;34m(*a, **kw)\u001b[0m\n\u001b[0;32m    <a href='file:///c%3A/Users/Raphael/Documents/repos/pyspark-native-functions/pyt/venv/lib/site-packages/pyspark/sql/utils.py?line=112'>113</a>\u001b[0m converted \u001b[39m=\u001b[39m convert_exception(e\u001b[39m.\u001b[39mjava_exception)\n\u001b[0;32m    <a href='file:///c%3A/Users/Raphael/Documents/repos/pyspark-native-functions/pyt/venv/lib/site-packages/pyspark/sql/utils.py?line=113'>114</a>\u001b[0m \u001b[39mif\u001b[39;00m \u001b[39mnot\u001b[39;00m \u001b[39misinstance\u001b[39m(converted, UnknownException):\n\u001b[0;32m    <a href='file:///c%3A/Users/Raphael/Documents/repos/pyspark-native-functions/pyt/venv/lib/site-packages/pyspark/sql/utils.py?line=114'>115</a>\u001b[0m     \u001b[39m# Hide where the exception came from that shows a non-Pythonic\u001b[39;00m\n\u001b[0;32m    <a href='file:///c%3A/Users/Raphael/Documents/repos/pyspark-native-functions/pyt/venv/lib/site-packages/pyspark/sql/utils.py?line=115'>116</a>\u001b[0m     \u001b[39m# JVM exception message.\u001b[39;00m\n\u001b[1;32m--> <a href='file:///c%3A/Users/Raphael/Documents/repos/pyspark-native-functions/pyt/venv/lib/site-packages/pyspark/sql/utils.py?line=116'>117</a>\u001b[0m     \u001b[39mraise\u001b[39;00m converted \u001b[39mfrom\u001b[39;00m \u001b[39mNone\u001b[39m\n\u001b[0;32m    <a href='file:///c%3A/Users/Raphael/Documents/repos/pyspark-native-functions/pyt/venv/lib/site-packages/pyspark/sql/utils.py?line=117'>118</a>\u001b[0m \u001b[39melse\u001b[39;00m:\n\u001b[0;32m    <a href='file:///c%3A/Users/Raphael/Documents/repos/pyspark-native-functions/pyt/venv/lib/site-packages/pyspark/sql/utils.py?line=118'>119</a>\u001b[0m     \u001b[39mraise\u001b[39;00m\n",
      "\u001b[1;31mAnalysisException\u001b[0m: Undefined function: 'balogo_jaro_winkler'. This function is neither a registered temporary function nor a permanent function registered in the database 'default'.; line 1 pos 0"
     ]
    }
   ],
   "source": [
    "vogals = ['a', 'e', 'i', 'o', 'u']\n",
    "targets = []\n",
    "comparison = []\n",
    "\n",
    "for i in range(10):\n",
    "    name = names.get_full_name()\n",
    "    targets.append({'SimilarityWith': name})\n",
    "    comparison.append({'Name': name})\n",
    "\n",
    "    #replace vogals\n",
    "    for vogal in vogals:\n",
    "        for aux_vogal in vogals:\n",
    "            if vogal != aux_vogal:\n",
    "                shuffled_name = name.replace(vogal, aux_vogal)\n",
    "                \n",
    "                if shuffled_name not in list(map(lambda x: x['Name'], comparison)):\n",
    "                    comparison.append({'Name': shuffled_name})\n",
    "\n",
    "targets_df = spark.createDataFrame(targets).alias('t')\n",
    "comparison_df = spark.createDataFrame(comparison).alias('c')\n",
    "\n",
    "print('Targets to be searched:')\n",
    "targets_df.show(n=2)\n",
    "\n",
    "print('\\Search list:')\n",
    "comparison_df.show(n=2)\n",
    "\n",
    "df = targets_df.crossJoin(comparison_df)\n",
    "\n",
    "df = df.withColumn('Similarity', F.expr(\n",
    "    'balogo_jaro_winkler(t.SimilarityWith, c.Name)'))\n",
    "\n",
    "df.show()"
   ]
  }
 ],
 "metadata": {
  "interpreter": {
   "hash": "1966315138f400f62dc1fff91c72ed91dd6df0f36082b426fd0f91ceb8258b5f"
  },
  "kernelspec": {
   "display_name": "Python 3.9.5 64-bit",
   "language": "python",
   "name": "python3"
  },
  "language_info": {
   "codemirror_mode": {
    "name": "ipython",
    "version": 3
   },
   "file_extension": ".py",
   "mimetype": "text/x-python",
   "name": "python",
   "nbconvert_exporter": "python",
   "pygments_lexer": "ipython3",
   "version": "3.9.5"
  },
  "orig_nbformat": 4
 },
 "nbformat": 4,
 "nbformat_minor": 2
}
