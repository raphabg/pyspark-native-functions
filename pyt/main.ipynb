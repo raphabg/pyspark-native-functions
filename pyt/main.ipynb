{
 "cells": [
  {
   "cell_type": "markdown",
   "metadata": {},
   "source": [
    "## Fuzzy Match POC with Apache Spark\n",
    "The objective of this project is to test the execution of native spark functions to perform string similarity analysis, with variated similarity analysis algorithms"
   ]
  },
  {
   "cell_type": "code",
   "execution_count": 1,
   "metadata": {},
   "outputs": [],
   "source": [
    "from pyspark import SparkContext\n",
    "from pyspark.sql import SparkSession\n",
    "import pyspark.sql.functions as F\n",
    "import names\n",
    "import os\n",
    "import sys\n",
    "\n",
    "os.environ['PYSPARK_PYTHON'] = sys.executable\n",
    "os.environ['PYSPARK_DRIVER_PYTHON'] = sys.executable\n",
    "\n",
    "sc = SparkContext().getOrCreate()\n",
    "\n",
    "spark = SparkSession.builder.appName(\n",
    "    'Fuzzy Match POC').getOrCreate()"
   ]
  },
  {
   "cell_type": "markdown",
   "metadata": {},
   "source": [
    "### Prepare datasets\n",
    "`targets` is the name list that will be looked up inside `comparison`"
   ]
  },
  {
   "cell_type": "code",
   "execution_count": 2,
   "metadata": {},
   "outputs": [
    {
     "name": "stdout",
     "output_type": "stream",
     "text": [
      "Targets to be searched:\n",
      "+---------------+\n",
      "| SimilarityWith|\n",
      "+---------------+\n",
      "| Allison Stroot|\n",
      "|Theresa Joachim|\n",
      "+---------------+\n",
      "only showing top 2 rows\n",
      "\n",
      "\\Search list:\n",
      "+--------------+\n",
      "|          Name|\n",
      "+--------------+\n",
      "|Allison Stroot|\n",
      "|Allason Stroot|\n",
      "+--------------+\n",
      "only showing top 2 rows\n",
      "\n",
      "+--------------+---------------+-------------------+\n",
      "|SimilarityWith|           Name|         Similarity|\n",
      "+--------------+---------------+-------------------+\n",
      "|Allison Stroot| Allison Stroot|                1.0|\n",
      "|Allison Stroot| Allason Stroot| 0.9666666666666667|\n",
      "|Allison Stroot| Alleson Stroot| 0.9666666666666667|\n",
      "|Allison Stroot| Alloson Stroot| 0.8948717948717949|\n",
      "|Allison Stroot| Alluson Stroot| 0.9666666666666667|\n",
      "|Allison Stroot| Allisan Straat| 0.9142857142857143|\n",
      "|Allison Stroot| Allisen Street| 0.9142857142857143|\n",
      "|Allison Stroot| Allisin Striit| 0.9142857142857143|\n",
      "|Allison Stroot| Allisun Struut| 0.9142857142857143|\n",
      "|Allison Stroot|Theresa Joachim| 0.3603174603174603|\n",
      "|Allison Stroot|Therese Joechim| 0.3603174603174603|\n",
      "|Allison Stroot|Theresi Joichim| 0.3507936507936508|\n",
      "|Allison Stroot|Thereso Joochim| 0.5634920634920635|\n",
      "|Allison Stroot|Theresu Jouchim| 0.3603174603174603|\n",
      "|Allison Stroot|Tharasa Joachim| 0.3603174603174603|\n",
      "|Allison Stroot|Thirisa Joachim|0.43412698412698414|\n",
      "|Allison Stroot|Thorosa Joachim|0.43412698412698414|\n",
      "|Allison Stroot|Thurusa Joachim| 0.3603174603174603|\n",
      "|Allison Stroot|Theresa Joacham| 0.3603174603174603|\n",
      "|Allison Stroot|Theresa Joachem| 0.3603174603174603|\n",
      "+--------------+---------------+-------------------+\n",
      "only showing top 20 rows\n",
      "\n"
     ]
    }
   ],
   "source": [
    "vogals = ['a', 'e', 'i', 'o', 'u']\n",
    "targets = []\n",
    "comparison = []\n",
    "\n",
    "for i in range(10):\n",
    "    name = names.get_full_name()\n",
    "    targets.append({'SimilarityWith': name})\n",
    "    comparison.append({'Name': name})\n",
    "\n",
    "    #replace vogals\n",
    "    for vogal in vogals:\n",
    "        for aux_vogal in vogals:\n",
    "            if vogal != aux_vogal:\n",
    "                shuffled_name = name.replace(vogal, aux_vogal)\n",
    "                \n",
    "                if shuffled_name not in list(map(lambda x: x['Name'], comparison)):\n",
    "                    comparison.append({'Name': shuffled_name})\n",
    "\n",
    "targets_df = spark.createDataFrame(targets).alias('t')\n",
    "comparison_df = spark.createDataFrame(comparison).alias('c')\n",
    "\n",
    "print('Targets to be searched:')\n",
    "targets_df.show(n=2)\n",
    "\n",
    "print('\\Search list:')\n",
    "comparison_df.show(n=2)\n",
    "\n",
    "df = targets_df.crossJoin(comparison_df)\n",
    "\n",
    "df = df.withColumn('Similarity', F.expr(\n",
    "    'balogo_jarowinkler(SimilarityWith, Name)'))\n",
    "\n",
    "df.show()"
   ]
  }
 ],
 "metadata": {
  "interpreter": {
   "hash": "1966315138f400f62dc1fff91c72ed91dd6df0f36082b426fd0f91ceb8258b5f"
  },
  "kernelspec": {
   "display_name": "Python 3.9.5 64-bit",
   "language": "python",
   "name": "python3"
  },
  "language_info": {
   "codemirror_mode": {
    "name": "ipython",
    "version": 3
   },
   "file_extension": ".py",
   "mimetype": "text/x-python",
   "name": "python",
   "nbconvert_exporter": "python",
   "pygments_lexer": "ipython3",
   "version": "3.9.5"
  },
  "orig_nbformat": 4
 },
 "nbformat": 4,
 "nbformat_minor": 2
}
