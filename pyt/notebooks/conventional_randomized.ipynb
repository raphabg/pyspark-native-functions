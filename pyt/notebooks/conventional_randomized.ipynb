{
    "cells": [
        {
            "cell_type": "markdown",
            "metadata": {
                "azdata_cell_guid": "4aeacaa4-901d-441f-a8e8-4c1bae28c774"
            },
            "source": [
                "## Fuzzy Match POC with Apache Spark\n",
                "The objective of this project is to test the execution of native spark functions to perform string similarity analysis, with variated similarity analysis algorithms\n",
                "\n",
                "### Approaches\n",
                "\n",
                "- 1st Approach: Use of native Scala Spark SQL fuzzy match algorithms, crossjoining the input dataset with the target dataset, generating a quatratic computational time\n",
                "\n",
                "References:\n",
                "- [Josh Taylor: Fuzzy matching at scale](https://towardsdatascience.com/fuzzy-matching-at-scale-84f2bfd0c536#:~:text=The%20problem%20with%20Fuzzy%20Matching%20on%20large%20data&text=In%20computer%20science%2C%20this%20is,that%20works%20in%20quadratic%20time.)"
            ]
        },
        {
            "cell_type": "code",
            "execution_count": 2,
            "metadata": {
                "azdata_cell_guid": "a7291e39-9e81-4859-868e-713730d26357",
                "language": "python"
            },
            "outputs": [],
            "source": [
                "import os\n",
                "import sys\n",
                "import names\n",
                "import pyspark.sql.functions as F\n",
                "from pyspark import SparkContext\n",
                "from pyspark.sql import SparkSession\n",
                "\n",
                "os.environ['PYSPARK_PYTHON'] = sys.executable\n",
                "os.environ['PYSPARK_DRIVER_PYTHON'] = sys.executable\n",
                "\n",
                "sc = SparkContext().getOrCreate()\n",
                "\n",
                "spark = SparkSession.builder.appName(\n",
                "    'Fuzzy Match POC').getOrCreate()"
            ]
        },
        {
            "cell_type": "markdown",
            "metadata": {
                "azdata_cell_guid": "277c556d-9166-4088-8151-b357c4b6c11b"
            },
            "source": [
                "### Prepare datasets\n",
                "`targets` is the name list that will be looked up inside `comparison`"
            ]
        },
        {
            "cell_type": "code",
            "execution_count": 16,
            "metadata": {
                "azdata_cell_guid": "ed14ad64-b015-4c66-b253-68551dcf4cba",
                "language": "python"
            },
            "outputs": [
                {
                    "name": "stdout",
                    "output_type": "stream",
                    "text": [
                        "10\n",
                        "3070\n",
                        "CrossJoined dataset size: 30700\n"
                    ]
                }
            ],
            "source": [
                "shuffle = ['A', 'E', 'I', 'O', 'U', 'H' , 'R', 'P' ,'B', 'J', 'N', 'M', 'G', '.', '/', './ ', '-', '- LTDA']\n",
                "targets = []\n",
                "comparison = []\n",
                "\n",
                "\n",
                "for i in range(100):\n",
                "    name = names.get_full_name().upper()\n",
                "    targets.append({'SimilarityWith': name})\n",
                "    comparison.append({'Name': name})\n",
                "\n",
                "    #replace shuffle\n",
                "    for shuffle_char in shuffle:\n",
                "        for shuffle_char_aux in shuffle:\n",
                "            if shuffle_char != shuffle_char_aux:\n",
                "                shuffled_name = name.replace(shuffle_char, shuffle_char_aux)\n",
                "                comparison.append({'Name': shuffled_name})\n",
                "\n",
                "targets_df = spark.createDataFrame(targets).alias('t')\n",
                "comparison_df = spark.createDataFrame(comparison).alias('c')\n",
                "\n",
                "print(len(targets))\n",
                "print(len(comparison))\n",
                "\n",
                "print(f\"CrossJoined dataset size: {len(targets) * len(comparison)}\")"
            ]
        },
        {
            "cell_type": "markdown",
            "metadata": {
                "azdata_cell_guid": "3c765323-b6ec-4a55-a3ca-db75d3ef8228"
            },
            "source": [
                "<hr>\n",
                "\n",
                "### Conventional CrossJoin Approach"
            ]
        },
        {
            "cell_type": "code",
            "execution_count": 13,
            "metadata": {
                "azdata_cell_guid": "6e021e0f-a1a3-4c45-8c87-f45d47c59b93",
                "language": "python"
            },
            "outputs": [],
            "source": [
                "#lev = F.expr('1 - (levenshtein(Name, SimilarityWith) / array_max(array(length(Name), length(SimilarityWith))) )')\n",
                "jaro = F.expr('jarowinkler(Name, SimilarityWith)')"
            ]
        },
        {
            "cell_type": "code",
            "execution_count": 14,
            "metadata": {
                "azdata_cell_guid": "c7ce4e17-0f42-4a21-bb57-371a819cb799",
                "language": "python"
            },
            "outputs": [
                {
                    "name": "stdout",
                    "output_type": "stream",
                    "text": [
                        "Filtered Fuzzy Match count: 13333\n",
                        "+----------------+--------------------+------------------+\n",
                        "|  SimilarityWith|                Name|        Similarity|\n",
                        "+----------------+--------------------+------------------+\n",
                        "|   HARRY HENSHAW|       HARRY HJNSHAW|0.9692307692307692|\n",
                        "|KATHRYN MCDONALD|KATH- LTDAYN MCDO...|0.8570238095238096|\n",
                        "|  THELMA NEIDICH|      THELUA NEIDICH|0.9714285714285714|\n",
                        "|     GEORGE BEAN|         GEORGE BENN|0.9636363636363636|\n",
                        "|KATHRYN MCDONALD|       RAYMOND NLAIR|0.7233391608391608|\n",
                        "|KATHRYN MCDONALD|         IARY CANNON|0.7009680134680135|\n",
                        "|     WALTER GOOD|       W-LTER T-YLOR|0.7524475524475526|\n",
                        "|      DONNA CURL|         LANA CURIUL|0.7311688311688312|\n",
                        "|    TINA PURSLEY|        TINA PURSLIY|0.9666666666666666|\n",
                        "|    TINA PURSLEY|        TINA PURSLHY|0.9666666666666666|\n",
                        "|   CHARLES WEDEL|       CHRRLES WEDEL| 0.958974358974359|\n",
                        "|      KEN LENNON|          KE- LE--O-|0.7866666666666667|\n",
                        "|    NANCY MILLER|        OAOCY MILLER| 0.888888888888889|\n",
                        "|   MARGARET SHEA|       MEGAJ CAUTHEJ|0.7487179487179487|\n",
                        "|   RAYMOND BLAIR|       BRANDA BOWLAS|0.7022792022792023|\n",
                        "|      ERIC MOORE|          BRIC MOORB|0.8666666666666667|\n",
                        "|    SETH MANCINE|        SETN MANCINE|0.8868686868686868|\n",
                        "|  HERBERT PAXTON|      IERBERT PAXTON|0.9523809523809524|\n",
                        "|  DAMON CLECKLER|      DAMON CLECKLE-|0.9714285714285714|\n",
                        "|   WALTER TAYLOR|       WALTEI TAYLOI|0.9384615384615385|\n",
                        "+----------------+--------------------+------------------+\n",
                        "only showing top 20 rows\n",
                        "\n"
                    ]
                }
            ],
            "source": [
                "min_similarity = 0.7\n",
                "df = targets_df.crossJoin(comparison_df)\n",
                "df = df.withColumn('Similarity', jaro) \\\n",
                "    .filter(F.expr(f'Similarity >= {min_similarity}')) \\\n",
                "    .dropDuplicates() \\\n",
                "    .cache()\n",
                "\n",
                "print(f\"Filtered Fuzzy Match count: {df.count()}\")\n",
                "df.show()"
            ]
        },
        {
            "cell_type": "code",
            "execution_count": 15,
            "metadata": {
                "azdata_cell_guid": "af65312e-df81-4f75-81dd-b41e5caddfba",
                "language": "python"
            },
            "outputs": [],
            "source": [
                "pandas_df = df.toPandas()\n",
                "pandas_df.to_csv('conventional_randomized.csv', index=False)"
            ]
        }
    ],
    "metadata": {
        "interpreter": {
            "hash": "67f5144df351139a3446de2ed8df21946e4ce0030a0105ea51bcd18ebd659f47"
        },
        "kernelspec": {
            "display_name": "Python 3.9.5 ('fuzzyvenv': venv)",
            "language": "python",
            "name": "python3"
        },
        "language_info": {
            "codemirror_mode": {
                "name": "ipython",
                "version": 3
            },
            "file_extension": ".py",
            "mimetype": "text/x-python",
            "name": "python",
            "nbconvert_exporter": "python",
            "pygments_lexer": "ipython3",
            "version": "3.9.5"
        },
        "orig_nbformat": 4
    },
    "nbformat": 4,
    "nbformat_minor": 2
}
