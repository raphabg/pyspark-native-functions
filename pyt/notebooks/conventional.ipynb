{
    "cells": [
        {
            "cell_type": "markdown",
            "metadata": {
                "azdata_cell_guid": "4aeacaa4-901d-441f-a8e8-4c1bae28c774"
            },
            "source": [
                "## Fuzzy Match POC with Apache Spark\n",
                "The objective of this project is to test the execution of native spark functions to perform string similarity analysis, with variated similarity analysis algorithms\n",
                "\n",
                "### Approaches\n",
                "\n",
                "- 1st Approach: Use of native Scala Spark SQL fuzzy match algorithms, crossjoining the input dataset with the target dataset, generating a quatratic computational time\n",
                "\n",
                "References:\n",
                "- [Josh Taylor: Fuzzy matching at scale](https://towardsdatascience.com/fuzzy-matching-at-scale-84f2bfd0c536#:~:text=The%20problem%20with%20Fuzzy%20Matching%20on%20large%20data&text=In%20computer%20science%2C%20this%20is,that%20works%20in%20quadratic%20time.)"
            ]
        },
        {
            "cell_type": "code",
            "execution_count": 1,
            "metadata": {
                "azdata_cell_guid": "a7291e39-9e81-4859-868e-713730d26357",
                "language": "python"
            },
            "outputs": [],
            "source": [
                "import os\n",
                "import sys\n",
                "import pyspark.sql.functions as F\n",
                "from pyspark import SparkContext\n",
                "from pyspark.sql import SparkSession\n",
                "\n",
                "os.environ['PYSPARK_PYTHON'] = sys.executable\n",
                "os.environ['PYSPARK_DRIVER_PYTHON'] = sys.executable\n",
                "\n",
                "sc = SparkContext().getOrCreate()\n",
                "\n",
                "spark = SparkSession.builder.appName(\n",
                "    'Fuzzy Match POC').getOrCreate()"
            ]
        },
        {
            "cell_type": "markdown",
            "metadata": {
                "azdata_cell_guid": "277c556d-9166-4088-8151-b357c4b6c11b"
            },
            "source": [
                "### Prepare datasets\n",
                "`targets` is the name list that will be looked up inside `comparison`"
            ]
        },
        {
            "cell_type": "code",
            "execution_count": 2,
            "metadata": {
                "azdata_cell_guid": "ed14ad64-b015-4c66-b253-68551dcf4cba",
                "language": "python"
            },
            "outputs": [
                {
                    "name": "stdout",
                    "output_type": "stream",
                    "text": [
                        "15\n",
                        "32\n",
                        "CrossJoined dataset size: 480\n"
                    ]
                }
            ],
            "source": [
                "targets = []\n",
                "comparison = []\n",
                "\n",
                "targets.append({'SimilarityWith': 'HP PARTICIPACOES S/A'})\n",
                "targets.append({'SimilarityWith': 'SAMSUMG'})\n",
                "targets.append({'SimilarityWith': 'JOAO PEDRO PAULO'})\n",
                "targets.append({'SimilarityWith': 'PEDRO CHRISTIAN DA SILVA JR.'})\n",
                "targets.append({'SimilarityWith': 'LUIS CARLOS JR'})\n",
                "targets.append({'SimilarityWith': 'JOAO PEDRO FREDERICH HESRV'})\n",
                "targets.append({'SimilarityWith': 'CAMARGO CORREA SA'})\n",
                "targets.append({'SimilarityWith': 'SANTOS BRASIL TERMINAL PORTUARIO DE EXPORTACAO'})\n",
                "targets.append({'SimilarityWith': 'CONCAIS TERMINAL PORTUARIO'})\n",
                "targets.append({'SimilarityWith': 'JUNIOR RONALD FLINDSMAN'})\n",
                "targets.append({'SimilarityWith': 'COCA COLA LTDA'})\n",
                "targets.append({'SimilarityWith': 'BRASTEMP PRODUTOS TECNOLOGICOS LTDA'})\n",
                "targets.append({'SimilarityWith': 'MINERVA EXPORTACAO DE CARNES'})\n",
                "targets.append({'SimilarityWith': 'CENTRO DE CONVENCOES JESUS LUZ'})\n",
                "targets.append({'SimilarityWith': 'JUAN MERCADO DA SILVA'})\n",
                "\n",
                "#-----------------------------------NOME 2--------------------------------------\n",
                "comparison.append({'Name': 'HAP PARCTICIPACOES S/A'})\n",
                "comparison.append({'Name': 'HPPY PARTY S/A'})\n",
                "comparison.append({'Name': 'HIPPIES PATTERN S/A'})\n",
                "comparison.append({'Name': 'SAMSUNG'})\n",
                "comparison.append({'Name': 'JOHN PEDRO PAULO'})\n",
                "comparison.append({'Name': 'JOAO ROBERTO DA SILVA'})\n",
                "comparison.append({'Name': 'JOANA PEDROSO FERRAZ'})\n",
                "comparison.append({'Name': 'PEDRO SILVA JUNIOR'})\n",
                "comparison.append({'Name': 'PERSIO FERREIRA JUNIOR'})\n",
                "comparison.append({'Name': 'LUIS CARLOS OLIVERIA JUNIOR'})\n",
                "comparison.append({'Name': 'LUISA CAROLINA BORGES'})\n",
                "comparison.append({'Name': 'JOAO FRED HESRV'})\n",
                "comparison.append({'Name': 'FREDERICO HENRIQUE'})\n",
                "comparison.append({'Name': 'FREDERICO PEDROZO DE MORAES'})\n",
                "comparison.append({'Name': 'C CORREA EMPREENDIMENTOS SA'})\n",
                "comparison.append({'Name': 'CENTRO CORREAS E ACESSORIOS'})\n",
                "comparison.append({'Name': 'CISNEI CISCORREA EMPREITEIRA SA'})\n",
                "comparison.append({'Name': 'TRASNPETRO EXPORTACAO'})\n",
                "comparison.append({'Name': 'CONCAIS TERMINAL'})\n",
                "comparison.append({'Name': 'RONALD FLINDSMAN'})\n",
                "comparison.append({'Name': 'RONALDO FLETCHER ARMANDO'})\n",
                "comparison.append({'Name': 'COCA COLA LTDA'})\n",
                "comparison.append({'Name': 'COCADA DA MARIA LTDA'})\n",
                "comparison.append({'Name': 'BRASTEMP TECH LTDA'})\n",
                "comparison.append({'Name': 'BRASIL TECNOLOGIA LTDA'})\n",
                "comparison.append({'Name': 'MINERVA COMEX SERVICOS ALIMENTICIOS'})\n",
                "comparison.append({'Name': 'MINERIO EXPLORACAO E CAVAGEM'})\n",
                "comparison.append({'Name': 'MINAS GERAIS EXP'})\n",
                "comparison.append({'Name': 'CENTRO DE CONVENCOES SAO PAULO EXPOCENTER'})\n",
                "comparison.append({'Name': 'CELTIC CONNECTION SAO PAULO'})\n",
                "comparison.append({'Name': 'MERCADO DA SILVIA'})\n",
                "comparison.append({'Name': 'JOANA DA SILVA'})\n",
                "\n",
                "targets_df = spark.createDataFrame(targets).alias('t')\n",
                "comparison_df = spark.createDataFrame(comparison).alias('c')\n",
                "\n",
                "print(len(targets))\n",
                "print(len(comparison))\n",
                "\n",
                "print(f\"CrossJoined dataset size: {len(targets) * len(comparison)}\")"
            ]
        },
        {
            "cell_type": "markdown",
            "metadata": {
                "azdata_cell_guid": "3c765323-b6ec-4a55-a3ca-db75d3ef8228"
            },
            "source": [
                "<hr>\n",
                "\n",
                "### Conventional CrossJoin Approach"
            ]
        },
        {
            "cell_type": "code",
            "execution_count": 3,
            "metadata": {
                "azdata_cell_guid": "6e021e0f-a1a3-4c45-8c87-f45d47c59b93",
                "language": "python"
            },
            "outputs": [],
            "source": [
                "#lev = F.expr('1 - (levenshtein(Name, SimilarityWith) / array_max(array(length(Name), length(SimilarityWith))) )')\n",
                "jaro = F.expr('jarowinkler(Name, SimilarityWith)')"
            ]
        },
        {
            "cell_type": "code",
            "execution_count": 5,
            "metadata": {
                "azdata_cell_guid": "c7ce4e17-0f42-4a21-bb57-371a819cb799",
                "language": "python"
            },
            "outputs": [
                {
                    "name": "stdout",
                    "output_type": "stream",
                    "text": [
                        "Filtered Fuzzy Match count: 22\n",
                        "+--------------------+--------------------+------------------+\n",
                        "|      SimilarityWith|                Name|        Similarity|\n",
                        "+--------------------+--------------------+------------------+\n",
                        "|MINERVA EXPORTACA...|C CORREA EMPREEND...|0.7153278819945487|\n",
                        "|JOAO PEDRO FREDER...|FREDERICO PEDROZO...| 0.718966218966219|\n",
                        "|CONCAIS TERMINAL ...|TRASNPETRO EXPORT...|0.7195131257631258|\n",
                        "|JUNIOR RONALD FLI...|    RONALD FLINDSMAN|0.7318840579710145|\n",
                        "|JUAN MERCADO DA S...|   MERCADO DA SILVIA|0.7343604108309991|\n",
                        "|HP PARTICIPACOES S/A| HIPPIES PATTERN S/A|0.7613815789473684|\n",
                        "|JUAN MERCADO DA S...|      JOANA DA SILVA|0.8181318681318681|\n",
                        "|    JOAO PEDRO PAULO|    JOHN PEDRO PAULO| 0.819047619047619|\n",
                        "|    JOAO PEDRO PAULO|JOANA PEDROSO FERRAZ|0.8191666666666667|\n",
                        "|BRASTEMP PRODUTOS...|  BRASTEMP TECH LTDA|0.8254563492063491|\n",
                        "|MINERVA EXPORTACA...|MINERVA COMEX SER...|0.8348447204968945|\n",
                        "|HP PARTICIPACOES S/A|HAP PARCTICIPACOE...|0.8377272727272728|\n",
                        "|    JOAO PEDRO PAULO|JOAO ROBERTO DA S...|0.8401556776556777|\n",
                        "|PEDRO CHRISTIAN D...|  PEDRO SILVA JUNIOR|0.8420634920634922|\n",
                        "|      LUIS CARLOS JR|LUISA CAROLINA BO...| 0.844047619047619|\n",
                        "|JOAO PEDRO FREDER...|     JOAO FRED HESRV| 0.862051282051282|\n",
                        "|CENTRO DE CONVENC...|CENTRO DE CONVENC...|0.8847779862414009|\n",
                        "|MINERVA EXPORTACA...|MINERIO EXPLORACA...| 0.887012987012987|\n",
                        "|      LUIS CARLOS JR|LUIS CARLOS OLIVE...|0.8894179894179893|\n",
                        "|CONCAIS TERMINAL ...|    CONCAIS TERMINAL|0.9230769230769231|\n",
                        "+--------------------+--------------------+------------------+\n",
                        "only showing top 20 rows\n",
                        "\n"
                    ]
                }
            ],
            "source": [
                "min_similarity = 0.7\n",
                "df = targets_df.crossJoin(comparison_df)\n",
                "df = df.withColumn('Similarity', jaro).filter(F.expr(f'Similarity >= {min_similarity}')).cache()\n",
                "\n",
                "print(f\"Filtered Fuzzy Match count: {df.count()}\")\n",
                "df.orderByDesc(\"Similarity\").show()"
            ]
        },
        {
            "cell_type": "code",
            "execution_count": 5,
            "metadata": {
                "azdata_cell_guid": "af65312e-df81-4f75-81dd-b41e5caddfba",
                "language": "python"
            },
            "outputs": [],
            "source": [
                "pandas_df = df.toPandas()\n",
                "pandas_df.to_csv('conventional.csv', index=False)"
            ]
        }
    ],
    "metadata": {
        "interpreter": {
            "hash": "67f5144df351139a3446de2ed8df21946e4ce0030a0105ea51bcd18ebd659f47"
        },
        "kernelspec": {
            "display_name": "Python 3.9.5 ('fuzzyvenv': venv)",
            "language": "python",
            "name": "python3"
        },
        "language_info": {
            "codemirror_mode": {
                "name": "ipython",
                "version": 3
            },
            "file_extension": ".py",
            "mimetype": "text/x-python",
            "name": "python",
            "nbconvert_exporter": "python",
            "pygments_lexer": "ipython3",
            "version": "3.10.11"
        },
        "orig_nbformat": 4
    },
    "nbformat": 4,
    "nbformat_minor": 2
}
